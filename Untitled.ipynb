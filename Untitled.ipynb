{
 "cells": [
  {
   "cell_type": "code",
   "execution_count": 1,
   "id": "3be3cfea",
   "metadata": {},
   "outputs": [],
   "source": [
    "import cv2"
   ]
  },
  {
   "cell_type": "code",
   "execution_count": 7,
   "id": "3e09fc65",
   "metadata": {},
   "outputs": [],
   "source": [
    "def drawBox(img,bound_box):\n",
    "    x,y,w,h=int(bound_box[0]) ,int(bound_box[1]) , int(bound_box[2]) , int(bound_box[3])\n",
    "    cv2.rectangle(img,(x,y),((x+w),(y+h)),(255,0,255),3,1)\n",
    "    cv2.putText(img,\"Tracking\",(75,75),cv2.FONT_HERSHEY_SIMPLEX,0.7,(0,255,0),2 )                                       "
   ]
  },
  {
   "cell_type": "code",
   "execution_count": 8,
   "id": "cddd490e",
   "metadata": {},
   "outputs": [],
   "source": [
    "vid = cv2.VideoCapture(0) \n",
    "tracker=cv2.legacy.TrackerMOSSE_create()\n",
    "success,img=vid.read()\n",
    "bound_box=cv2.selectROI(\"Tracking\",img,False)\n",
    "tracker.init(img,bound_box)\n",
    "\n",
    "while True: \n",
    "    timer= cv2.getTickCount()\n",
    "    success, img = vid.read() \n",
    "    \n",
    "    \n",
    "    success,bound_box=tracker.update(img)\n",
    "    if success : \n",
    "        drawBox(img,bound_box)\n",
    "        \n",
    "        \n",
    "        \n",
    "        \n",
    "    else:\n",
    "        cv2.putText(img,\"Object Lost, Run Again\",(75,75),cv2.FONT_HERSHEY_SIMPLEX,0.7,(0,0,255),2 )\n",
    "   \n",
    "    \n",
    "\n",
    "    fps=cv2.getTickFrequency()/(cv2.getTickCount()-timer)\n",
    "    cv2.putText(img,str(int(fps)),(75,50),cv2.FONT_HERSHEY_SIMPLEX,0.7,(0,0,255),2 )\n",
    "   \n",
    "    cv2.imshow('frame', img) \n",
    "      \n",
    " \n",
    "    if cv2.waitKey(1) & 0xFF == ord('0'): \n",
    "        break\n",
    "  \n",
    "\n",
    "#vid.release() \n",
    "# Destroy all the windows \n",
    "cv2.destroyAllWindows() \n"
   ]
  }
 ],
 "metadata": {
  "kernelspec": {
   "display_name": "Python 3 (ipykernel)",
   "language": "python",
   "name": "python3"
  },
  "language_info": {
   "codemirror_mode": {
    "name": "ipython",
    "version": 3
   },
   "file_extension": ".py",
   "mimetype": "text/x-python",
   "name": "python",
   "nbconvert_exporter": "python",
   "pygments_lexer": "ipython3",
   "version": "3.9.13"
  }
 },
 "nbformat": 4,
 "nbformat_minor": 5
}
